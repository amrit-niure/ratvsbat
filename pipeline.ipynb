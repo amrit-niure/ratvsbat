{
 "cells": [
  {
   "cell_type": "markdown",
   "id": "23cc1f1d",
   "metadata": {},
   "source": [
    " # Comprehensive Data Cleaning Pipeline for Bat vs Rat Research\n",
    "============================================================\n",
    "\n",
    "Investigation A: Do bats perceive rats not just as competitors for food but also as potential predators?\n",
    "\n",
    "This script provides a thorough cleaning pipeline for both datasets used in the \n",
    "bat vs rat behavioral research specifically tailored for Investigation A.\n",
    "\n",
    "Key Focus Areas:\n",
    "- Avoidance behavior indicators (bat_landing_to_food delay times)\n",
    "- Vigilance measures (risk-taking vs risk-avoidance behaviors)\n",
    "- Temporal patterns in bat-rat interactions\n",
    "- Food competition dynamics\n",
    "\n",
    "Author: Amrit Niure and the HIT140 Team\n",
    "Date: September 2025\n",
    "Project: HIT140 Assessment 2 - Investigation A"
   ]
  },
  {
   "cell_type": "code",
   "execution_count": 41,
   "id": "9ea443bb",
   "metadata": {},
   "outputs": [],
   "source": [
    "import pandas as pd\n",
    "import numpy as np\n",
    "import matplotlib.pyplot as plt\n",
    "import seaborn as sns\n",
    "import warnings\n",
    "warnings.filterwarnings('ignore')\n"
   ]
  },
  {
   "cell_type": "code",
   "execution_count": 42,
   "id": "061d2883",
   "metadata": {},
   "outputs": [
    {
     "name": "stdout",
     "output_type": "stream",
     "text": [
      "Loading datasets...\n",
      "Dataset 1 shape: (907, 12)\n",
      "Dataset 2 shape: (2123, 7)\n",
      "\n",
      "==================================================\n"
     ]
    }
   ],
   "source": [
    "# Load datasets\n",
    "print(\"Loading datasets...\")\n",
    "\n",
    "df1 = pd.read_csv(\"raw_data/dataset1.csv\")\n",
    "df2 = pd.read_csv(\"raw_data/dataset2.csv\")\n",
    "\n",
    "print(f\"Dataset 1 shape: {df1.shape}\")\n",
    "print(f\"Dataset 2 shape: {df2.shape}\")\n",
    "print(\"\\n\" + \"=\"*50)\n"
   ]
  },
  {
   "cell_type": "code",
   "execution_count": 43,
   "id": "2671f841",
   "metadata": {},
   "outputs": [
    {
     "name": "stdout",
     "output_type": "stream",
     "text": [
      "\n",
      "=== DATA QUALITY INSPECTION: DATASET 1 ===\n",
      "Shape: (907, 12)\n",
      "Columns: ['start_time', 'bat_landing_to_food', 'habit', 'rat_period_start', 'rat_period_end', 'seconds_after_rat_arrival', 'risk', 'reward', 'month', 'sunset_time', 'hours_after_sunset', 'season']\n",
      "\n",
      "Data Types:\n",
      "start_time                    object\n",
      "bat_landing_to_food          float64\n",
      "habit                         object\n",
      "rat_period_start              object\n",
      "rat_period_end                object\n",
      "seconds_after_rat_arrival      int64\n",
      "risk                           int64\n",
      "reward                         int64\n",
      "month                          int64\n",
      "sunset_time                   object\n",
      "hours_after_sunset           float64\n",
      "season                         int64\n",
      "dtype: object\n",
      "\n",
      "Missing Values:\n",
      "       Missing Count  Missing %\n",
      "habit             41   4.520397\n",
      "\n",
      "Duplicate rows: 1\n",
      "\n",
      "Numeric Column Statistics:\n",
      "       bat_landing_to_food  seconds_after_rat_arrival        risk      reward  \\\n",
      "count           907.000000                 907.000000  907.000000  907.000000   \n",
      "mean             11.713134                 282.877619    0.495039    0.533627   \n",
      "std              27.644410                 240.974918    0.500251    0.499143   \n",
      "min               0.010238                   0.000000    0.000000    0.000000   \n",
      "25%               1.000000                  89.500000    0.000000    0.000000   \n",
      "50%               4.000000                 206.000000    0.000000    1.000000   \n",
      "75%              11.500000                 446.500000    1.000000    1.000000   \n",
      "max             443.000000                 949.000000    1.000000    1.000000   \n",
      "\n",
      "            month  hours_after_sunset      season  \n",
      "count  907.000000          907.000000  907.000000  \n",
      "mean     3.800441            5.531863    0.833517  \n",
      "std      1.199190            2.414146    0.372719  \n",
      "min      0.000000           -0.261667    0.000000  \n",
      "25%      4.000000            3.779028    1.000000  \n",
      "50%      4.000000            5.622778    1.000000  \n",
      "75%      5.000000            7.402778    1.000000  \n",
      "max      5.000000           12.091944    1.000000  \n",
      "\n",
      "==================================================\n"
     ]
    }
   ],
   "source": [
    "# Inspect Dataset 1 quality\n",
    "print(\"\\n=== DATA QUALITY INSPECTION: DATASET 1 ===\")\n",
    "\n",
    "# Basic info\n",
    "print(f\"Shape: {df1.shape}\")\n",
    "print(f\"Columns: {list(df1.columns)}\")\n",
    "\n",
    "# Data types\n",
    "print(\"\\nData Types:\")\n",
    "print(df1.dtypes)\n",
    "\n",
    "# Missing values\n",
    "print(\"\\nMissing Values:\")\n",
    "missing = df1.isnull().sum()\n",
    "missing_pct = (missing / len(df1)) * 100\n",
    "missing_df = pd.DataFrame({\n",
    "    'Missing Count': missing,\n",
    "    'Missing %': missing_pct\n",
    "})\n",
    "print(missing_df[missing_df['Missing Count'] > 0])\n",
    "\n",
    "# Duplicates\n",
    "duplicates = df1.duplicated().sum()\n",
    "print(f\"\\nDuplicate rows: {duplicates}\")\n",
    "\n",
    "# Basic statistics for numeric columns\n",
    "print(\"\\nNumeric Column Statistics:\")\n",
    "numeric_cols = df1.select_dtypes(include=[np.number]).columns\n",
    "if len(numeric_cols) > 0:\n",
    "    print(df1[numeric_cols].describe())\n",
    "\n",
    "print(\"\\n\" + \"=\"*50)\n"
   ]
  },
  {
   "cell_type": "code",
   "execution_count": 44,
   "id": "12d307b0",
   "metadata": {},
   "outputs": [
    {
     "name": "stdout",
     "output_type": "stream",
     "text": [
      "\n",
      "=== DATA QUALITY INSPECTION: DATASET 2 ===\n",
      "Shape: (2123, 7)\n",
      "Columns: ['time', 'month', 'hours_after_sunset', 'bat_landing_number', 'food_availability', 'rat_minutes', 'rat_arrival_number']\n",
      "\n",
      "Data Types:\n",
      "time                   object\n",
      "month                   int64\n",
      "hours_after_sunset    float64\n",
      "bat_landing_number      int64\n",
      "food_availability     float64\n",
      "rat_minutes           float64\n",
      "rat_arrival_number      int64\n",
      "dtype: object\n",
      "\n",
      "Missing Values:\n",
      "Empty DataFrame\n",
      "Columns: [Missing Count, Missing %]\n",
      "Index: []\n",
      "\n",
      "Duplicate rows: 0\n",
      "\n",
      "Numeric Column Statistics:\n",
      "             month  hours_after_sunset  bat_landing_number  food_availability  \\\n",
      "count  2123.000000         2123.000000         2123.000000        2123.000000   \n",
      "mean      3.083844            5.265426           32.083373           2.445874   \n",
      "std       1.642261            4.076188           25.614431           1.218353   \n",
      "min       0.000000           -2.000000            0.000000           0.000000   \n",
      "25%       2.000000            2.000000           11.000000           1.962206   \n",
      "50%       4.000000            5.000000           27.000000           2.951877   \n",
      "75%       4.000000            8.500000           48.000000           3.105873   \n",
      "max       6.000000           13.500000          178.000000           4.000000   \n",
      "\n",
      "       rat_minutes  rat_arrival_number  \n",
      "count  2123.000000         2123.000000  \n",
      "mean      1.994442            0.444654  \n",
      "std       6.793397            1.019195  \n",
      "min       0.000000            0.000000  \n",
      "25%       0.000000            0.000000  \n",
      "50%       0.000000            0.000000  \n",
      "75%       0.158333            1.000000  \n",
      "max     120.000000           17.000000  \n",
      "\n",
      "==================================================\n"
     ]
    }
   ],
   "source": [
    "# Inspect Dataset 2 quality\n",
    "print(\"\\n=== DATA QUALITY INSPECTION: DATASET 2 ===\")\n",
    "\n",
    "# Basic info\n",
    "print(f\"Shape: {df2.shape}\")\n",
    "print(f\"Columns: {list(df2.columns)}\")\n",
    "\n",
    "# Data types\n",
    "print(\"\\nData Types:\")\n",
    "print(df2.dtypes)\n",
    "\n",
    "# Missing values\n",
    "print(\"\\nMissing Values:\")\n",
    "missing = df2.isnull().sum()\n",
    "missing_pct = (missing / len(df2)) * 100\n",
    "missing_df = pd.DataFrame({\n",
    "    'Missing Count': missing,\n",
    "    'Missing %': missing_pct\n",
    "})\n",
    "print(missing_df[missing_df['Missing Count'] > 0])\n",
    "\n",
    "# Duplicates\n",
    "duplicates = df2.duplicated().sum()\n",
    "print(f\"\\nDuplicate rows: {duplicates}\")\n",
    "\n",
    "# Basic statistics for numeric columns\n",
    "print(\"\\nNumeric Column Statistics:\")\n",
    "numeric_cols = df2.select_dtypes(include=[np.number]).columns\n",
    "if len(numeric_cols) > 0:\n",
    "    print(df2[numeric_cols].describe())\n",
    "\n",
    "print(\"\\n\" + \"=\"*50)\n"
   ]
  },
  {
   "cell_type": "code",
   "execution_count": 45,
   "id": "41b406bc",
   "metadata": {},
   "outputs": [
    {
     "name": "stdout",
     "output_type": "stream",
     "text": [
      "\n",
      "=== CLEANING DATASET 1 (BAT BEHAVIOR DATA) ===\n",
      "1. Converting datetime columns...\n",
      "   Converted start_time to datetime\n",
      "   Converted rat_period_start to datetime\n",
      "   Converted rat_period_end to datetime\n",
      "   Converted sunset_time to datetime\n"
     ]
    }
   ],
   "source": [
    "# Clean Dataset 1\n",
    "print(\"\\n=== CLEANING DATASET 1 (BAT BEHAVIOR DATA) ===\")\n",
    "df1_clean = df1.copy()\n",
    "\n",
    "# 1. Handle datetime columns - CRITICAL for temporal analysis\n",
    "print(\"1. Converting datetime columns...\")\n",
    "date_cols = [\"start_time\", \"rat_period_start\", \"rat_period_end\", \"sunset_time\"]\n",
    "\n",
    "for col in date_cols:\n",
    "    if col in df1_clean.columns:\n",
    "        df1_clean[col] = pd.to_datetime(df1_clean[col], dayfirst=True, errors=\"coerce\")\n",
    "        print(f\"   Converted {col} to datetime\")\n"
   ]
  },
  {
   "cell_type": "code",
   "execution_count": 46,
   "id": "ea0f4bdc",
   "metadata": {},
   "outputs": [
    {
     "name": "stdout",
     "output_type": "stream",
     "text": [
      "2. Processing avoidance behavior indicators...\n",
      "   Removed 0 records with negative landing-to-food times\n",
      "   Created avoidance behavior categories\n"
     ]
    }
   ],
   "source": [
    "# 2. Clean AVOIDANCE BEHAVIOR indicator (bat_landing_to_food)\n",
    "print(\"2. Processing avoidance behavior indicators...\")\n",
    "\n",
    "if 'bat_landing_to_food' in df1_clean.columns:\n",
    "    # This is KEY for Investigation A - time delay indicates avoidance/vigilance\n",
    "    original_count = len(df1_clean)\n",
    "\n",
    "    # Remove clearly erroneous values (negative times don't make sense)\n",
    "    df1_clean = df1_clean[df1_clean['bat_landing_to_food'] >= 0]\n",
    "    print(f\"   Removed {original_count - len(df1_clean)} records with negative landing-to-food times\")\n",
    "\n",
    "    # Create avoidance behavior categories based on delay time\n",
    "    # Longer delays = more avoidance/vigilance behavior\n",
    "    df1_clean['avoidance_level'] = pd.cut(\n",
    "        df1_clean['bat_landing_to_food'],\n",
    "        bins=[0, 1, 5, 15, float('inf')],\n",
    "        labels=['immediate', 'quick', 'delayed', 'highly_delayed'],\n",
    "        include_lowest=True\n",
    "    )\n",
    "\n",
    "    # Binary indicator for high avoidance (>5 seconds delay)\n",
    "    df1_clean['high_avoidance'] = (df1_clean['bat_landing_to_food'] > 5).astype(int)\n",
    "\n",
    "    print(\"   Created avoidance behavior categories\")\n"
   ]
  },
  {
   "cell_type": "code",
   "execution_count": 47,
   "id": "468dfab2",
   "metadata": {},
   "outputs": [
    {
     "name": "stdout",
     "output_type": "stream",
     "text": [
      "3. Processing bat behavior patterns...\n"
     ]
    }
   ],
   "source": [
    "# 3. Clean and enhance HABIT column for behavior analysis\n",
    "print(\"3. Processing bat behavior patterns...\")\n",
    "\n",
    "# Handle missing and standardize\n",
    "df1_clean['habit'] = df1_clean['habit'].fillna(\"unknown\")\n",
    "df1_clean['habit'] = df1_clean['habit'].astype(str).str.strip().str.lower()\n",
    "df1_clean['habit'] = df1_clean['habit'].replace('', 'unknown')\n",
    "df1_clean['habit'] = df1_clean['habit'].replace('nan', 'unknown')\n",
    "\n",
    "# Remove coordinate-like anomalies\n",
    "coordinate_pattern = r'\\d+\\.\\d+,\\d+\\.\\d+,\\d+\\.\\d+,\\d+\\.\\d+'\n",
    "df1_clean.loc[df1_clean['habit'].str.contains(coordinate_pattern, na=False), 'habit'] = 'unknown'\n",
    "\n",
    "# Create PREDATOR PERCEPTION indicators\n",
    "def analyze_predator_perception(habit_value):\n",
    "    \"\"\"Analyze behavior for predator perception indicators.\"\"\"\n",
    "    if pd.isna(habit_value) or habit_value == 'unknown':\n",
    "        return {'rat_present': 0, 'behavior_type': 'unknown', 'vigilance_level': 'unknown'}\n",
    "    \n",
    "    v = str(habit_value).lower().strip()\n",
    "    \n",
    "    # Rat presence detection\n",
    "    rat_present = 1 if \"rat\" in v else 0\n",
    "    \n",
    "    # Behavior classification\n",
    "    if \"fight\" in v or \"bat_fight\" in v:\n",
    "        behavior_type = \"aggressive\"  # Direct confrontation\n",
    "        vigilance_level = \"high\"\n",
    "    elif \"gaze\" in v:\n",
    "        behavior_type = \"vigilant\"    # Monitoring behavior\n",
    "        vigilance_level = \"high\"\n",
    "    elif \"pick\" in v:\n",
    "        behavior_type = \"feeding\"     # Food acquisition\n",
    "        vigilance_level = \"medium\" if rat_present else \"low\"\n",
    "    elif \"fast\" in v:\n",
    "        behavior_type = \"quick_feeding\"  # Rapid food acquisition\n",
    "        vigilance_level = \"medium\"\n",
    "    else:\n",
    "        behavior_type = \"other\"\n",
    "        vigilance_level = \"unknown\"\n",
    "    \n",
    "    return {\n",
    "        'rat_present': rat_present,\n",
    "        'behavior_type': behavior_type,\n",
    "        'vigilance_level': vigilance_level\n",
    "    }\n",
    "\n",
    "# Apply predator perception analysis\n",
    "behavior_analysis = df1_clean['habit'].apply(analyze_predator_perception)\n",
    "df1_clean['rat_present'] = [analysis['rat_present'] for analysis in behavior_analysis]\n",
    "df1_clean['behavior_type'] = [analysis['behavior_type'] for analysis in behavior_analysis]\n",
    "df1_clean['vigilance_level'] = [analysis['vigilance_level'] for analysis in behavior_analysis]\n"
   ]
  },
  {
   "cell_type": "code",
   "execution_count": 48,
   "id": "f01401cb",
   "metadata": {},
   "outputs": [
    {
     "name": "stdout",
     "output_type": "stream",
     "text": [
      "4. Processing risk-reward behavioral indicators...\n"
     ]
    }
   ],
   "source": [
    "# 4. Process RISK and REWARD indicators - Core to Investigation A\n",
    "print(\"4. Processing risk-reward behavioral indicators...\")\n",
    "\n",
    "if 'risk' in df1_clean.columns:\n",
    "    df1_clean['risk'] = df1_clean['risk'].fillna(0).astype(int).clip(0, 1)\n",
    "    # risk=1 indicates risk-taking behavior despite rat presence\n",
    "\n",
    "if 'reward' in df1_clean.columns:\n",
    "    df1_clean['reward'] = df1_clean['reward'].fillna(0).astype(int).clip(0, 1)\n",
    "    # reward=1 indicates successful food acquisition\n",
    "\n",
    "# Create predator-avoidance success indicators\n",
    "if 'risk' in df1_clean.columns and 'reward' in df1_clean.columns:\n",
    "    # Successful avoidance = got reward without taking risk\n",
    "    df1_clean['successful_avoidance'] = ((df1_clean['reward'] == 1) & (df1_clean['risk'] == 0)).astype(int)\n",
    "    \n",
    "    # Risk-taking success = got reward despite taking risk\n",
    "    df1_clean['risk_taking_success'] = ((df1_clean['reward'] == 1) & (df1_clean['risk'] == 1)).astype(int)\n"
   ]
  },
  {
   "cell_type": "code",
   "execution_count": 49,
   "id": "2d594750",
   "metadata": {},
   "outputs": [
    {
     "name": "stdout",
     "output_type": "stream",
     "text": [
      "5. Creating temporal features for predator perception analysis...\n"
     ]
    }
   ],
   "source": [
    "# 5. Temporal analysis for Investigation A\n",
    "print(\"5. Creating temporal features for predator perception analysis...\")\n",
    "\n",
    "if 'start_time' in df1_clean.columns:\n",
    "    df1_clean['hour'] = df1_clean['start_time'].dt.hour\n",
    "    df1_clean['day_of_week'] = df1_clean['start_time'].dt.dayofweek\n",
    "    df1_clean['is_night'] = ((df1_clean['hour'] >= 18) | (df1_clean['hour'] <= 6)).astype(int)\n",
    "    \n",
    "    # Peak activity periods when predator encounters are more likely\n",
    "    df1_clean['peak_activity'] = ((df1_clean['hour'] >= 19) & (df1_clean['hour'] <= 23)).astype(int)\n"
   ]
  },
  {
   "cell_type": "code",
   "execution_count": 50,
   "id": "33be5eaf",
   "metadata": {},
   "outputs": [
    {
     "name": "stdout",
     "output_type": "stream",
     "text": [
      "6. Analyzing rat encounter timing...\n"
     ]
    }
   ],
   "source": [
    "# 6. Rat encounter timing analysis\n",
    "print(\"6. Analyzing rat encounter timing...\")\n",
    "\n",
    "if 'seconds_after_rat_arrival' in df1_clean.columns:\n",
    "    # Time since rat arrival - key for predator perception\n",
    "    df1_clean['seconds_after_rat_arrival'] = pd.to_numeric(\n",
    "        df1_clean['seconds_after_rat_arrival'], errors='coerce'\n",
    "    ).fillna(0)\n",
    "    \n",
    "    # Create encounter timing categories\n",
    "    df1_clean['encounter_timing'] = pd.cut(\n",
    "        df1_clean['seconds_after_rat_arrival'],\n",
    "        bins=[0, 30, 120, 300, float('inf')],\n",
    "        labels=['immediate', 'short_delay', 'medium_delay', 'long_delay'],\n",
    "        include_lowest=True\n",
    "    )\n",
    "    \n",
    "    # Quick encounter indicator (within 30 seconds of rat arrival)\n",
    "    df1_clean['quick_encounter'] = (df1_clean['seconds_after_rat_arrival'] <= 30).astype(int)\n"
   ]
  },
  {
   "cell_type": "code",
   "execution_count": 51,
   "id": "44416202",
   "metadata": {},
   "outputs": [
    {
     "name": "stdout",
     "output_type": "stream",
     "text": [
      "7. Calculating predator exposure duration...\n"
     ]
    }
   ],
   "source": [
    "# 7. Calculate rat presence duration for each bat landing\n",
    "print(\"7. Calculating predator exposure duration...\")\n",
    "\n",
    "if all(col in df1_clean.columns for col in ['rat_period_start', 'rat_period_end']):\n",
    "    # Calculate how long rats were present\n",
    "    df1_clean['rat_presence_duration'] = (\n",
    "        df1_clean['rat_period_end'] - df1_clean['rat_period_start']\n",
    "    ).dt.total_seconds().fillna(0)\n",
    "    \n",
    "    # Long predator exposure indicator\n",
    "    df1_clean['long_predator_exposure'] = (\n",
    "        df1_clean['rat_presence_duration'] > 300\n",
    "    ).astype(int)  # >5 minutes\n"
   ]
  },
  {
   "cell_type": "code",
   "execution_count": 52,
   "id": "00138e86",
   "metadata": {},
   "outputs": [
    {
     "name": "stdout",
     "output_type": "stream",
     "text": [
      "8. Creating Investigation A composite indicators...\n",
      "Dataset 1 cleaning complete. Final shape: (907, 29)\n",
      "Key Investigation A variables created:\n",
      "   - Predator avoidance score (mean: 0.369)\n",
      "   - Interaction types: {'no_rat': 596, 'predation_fear': 271, 'competition': 40}\n"
     ]
    }
   ],
   "source": [
    "# 8. Create Investigation A specific composite indicators\n",
    "print(\"8. Creating Investigation A composite indicators...\")\n",
    "\n",
    "# Predator avoidance score (higher = more avoidance behavior)\n",
    "avoidance_factors = []\n",
    "\n",
    "if 'high_avoidance' in df1_clean.columns:\n",
    "    avoidance_factors.append(df1_clean['high_avoidance'])\n",
    "    \n",
    "if 'risk' in df1_clean.columns:\n",
    "    avoidance_factors.append(1 - df1_clean['risk'])  # inverse of risk-taking\n",
    "    \n",
    "if 'vigilance_level' in df1_clean.columns:\n",
    "    vigilance_score = df1_clean['vigilance_level'].map({'low': 0, 'medium': 1, 'high': 2, 'unknown': 0})\n",
    "    avoidance_factors.append(vigilance_score / 2)  # normalize to 0-1\n",
    "\n",
    "if avoidance_factors:\n",
    "    df1_clean['predator_avoidance_score'] = np.mean(avoidance_factors, axis=0)\n",
    "\n",
    "# Competition vs predation indicator\n",
    "# High competition: rats present, feeding behavior, reward obtained\n",
    "# High predation fear: rats present, delayed approach, no reward or high vigilance\n",
    "if all(col in df1_clean.columns for col in ['rat_present', 'behavior_type', 'reward']):\n",
    "    def classify_interaction_type(row):\n",
    "        if row['rat_present'] == 0:\n",
    "            return 'no_rat'\n",
    "        elif row['behavior_type'] in ['feeding', 'quick_feeding'] and row['reward'] == 1:\n",
    "            return 'competition'\n",
    "        elif row['behavior_type'] in ['vigilant', 'aggressive'] or row['reward'] == 0:\n",
    "            return 'predation_fear'\n",
    "        else:\n",
    "            return 'uncertain'\n",
    "    \n",
    "    df1_clean['interaction_type'] = df1_clean.apply(classify_interaction_type, axis=1)\n",
    "\n",
    "# Summary\n",
    "print(f\"Dataset 1 cleaning complete. Final shape: {df1_clean.shape}\")\n",
    "print(\"Key Investigation A variables created:\")\n",
    "if 'predator_avoidance_score' in df1_clean.columns:\n",
    "    print(f\"   - Predator avoidance score (mean: {df1_clean['predator_avoidance_score'].mean():.3f})\")\n",
    "if 'interaction_type' in df1_clean.columns:\n",
    "    print(f\"   - Interaction types: {df1_clean['interaction_type'].value_counts().to_dict()}\")\n"
   ]
  },
  {
   "cell_type": "code",
   "execution_count": 53,
   "id": "8338622e",
   "metadata": {},
   "outputs": [
    {
     "name": "stdout",
     "output_type": "stream",
     "text": [
      "\n",
      "=== CLEANING DATASET 2 (TIME SERIES OBSERVATION DATA) ===\n",
      "1. Converting datetime column...\n",
      "   Converted time to datetime\n"
     ]
    }
   ],
   "source": [
    "# Clean Dataset 2\n",
    "print(\"\\n=== CLEANING DATASET 2 (TIME SERIES OBSERVATION DATA) ===\")\n",
    "df2_clean = df2.copy()\n",
    "\n",
    "# 1. Handle datetime column\n",
    "print(\"1. Converting datetime column...\")\n",
    "if 'time' in df2_clean.columns:\n",
    "    df2_clean['time'] = pd.to_datetime(df2_clean['time'], dayfirst=True, errors=\"coerce\")\n",
    "    print(\"   Converted time to datetime\")\n"
   ]
  },
  {
   "cell_type": "code",
   "execution_count": 54,
   "id": "62ee0263",
   "metadata": {},
   "outputs": [
    {
     "name": "stdout",
     "output_type": "stream",
     "text": [
      "2. Processing core behavioral metrics for Investigation A...\n"
     ]
    }
   ],
   "source": [
    "# 2. Clean and validate core behavioral metrics\n",
    "print(\"2. Processing core behavioral metrics for Investigation A...\")\n",
    "\n",
    "# Key metrics for predator perception analysis\n",
    "behavioral_cols = ['bat_landing_number', 'food_availability', 'rat_minutes', 'rat_arrival_number']\n",
    "\n",
    "for col in behavioral_cols:\n",
    "    if col in df2_clean.columns:\n",
    "        # Handle negative values (shouldn't exist)\n",
    "        negative_count = (df2_clean[col] < 0).sum()\n",
    "        if negative_count > 0:\n",
    "            print(f\"   Found {negative_count} negative values in {col}, setting to 0\")\n",
    "            df2_clean[col] = df2_clean[col].clip(lower=0)\n",
    "        \n",
    "        # Fill missing values appropriately\n",
    "        df2_clean[col] = df2_clean[col].fillna(0)\n"
   ]
  },
  {
   "cell_type": "code",
   "execution_count": 55,
   "id": "5b2772c0",
   "metadata": {},
   "outputs": [
    {
     "name": "stdout",
     "output_type": "stream",
     "text": [
      "3. Creating predator pressure indicators...\n",
      "4. Analyzing bat response patterns...\n"
     ]
    }
   ],
   "source": [
    "# 3. Create PREDATOR PRESSURE indicators\n",
    "print(\"3. Creating predator pressure indicators...\")\n",
    "\n",
    "if 'rat_minutes' in df2_clean.columns:\n",
    "    df2_clean['rat_present'] = (df2_clean['rat_minutes'] > 0).astype(int)\n",
    "    \n",
    "    # Categorize predator pressure intensity\n",
    "    df2_clean['predator_pressure'] = pd.cut(\n",
    "        df2_clean['rat_minutes'],\n",
    "        bins=[0, 0.1, 5, 15, float('inf')],\n",
    "        labels=['none', 'minimal', 'moderate', 'high'],\n",
    "        include_lowest=True\n",
    "    )\n",
    "    \n",
    "    # High predator pressure indicator (>15 minutes of rat presence)\n",
    "    df2_clean['high_predator_pressure'] = (df2_clean['rat_minutes'] > 15).astype(int)\n",
    "\n",
    "if 'rat_arrival_number' in df2_clean.columns:\n",
    "    df2_clean['multiple_rat_arrivals'] = (df2_clean['rat_arrival_number'] > 1).astype(int)\n",
    "    df2_clean['frequent_rat_activity'] = (df2_clean['rat_arrival_number'] >= 3).astype(int)\n",
    "\n",
    "# 4. Analyze BAT RESPONSE patterns to predator presence\n",
    "print(\"4. Analyzing bat response patterns...\")\n",
    "\n",
    "if 'bat_landing_number' in df2_clean.columns:\n",
    "    # Create bat activity categories\n",
    "    df2_clean['bat_activity_level'] = pd.cut(\n",
    "        df2_clean['bat_landing_number'],\n",
    "        bins=[0, 10, 30, 50, float('inf')],\n",
    "        labels=['low', 'moderate', 'high', 'very_high'],\n",
    "        include_lowest=True\n",
    "    )\n",
    "    \n",
    "    # High bat activity indicator\n",
    "    df2_clean['high_bat_activity'] = (df2_clean['bat_landing_number'] > 50).astype(int)\n"
   ]
  },
  {
   "cell_type": "code",
   "execution_count": 56,
   "id": "30819cec",
   "metadata": {},
   "outputs": [
    {
     "name": "stdout",
     "output_type": "stream",
     "text": [
      "5. Analyzing food competition dynamics...\n"
     ]
    }
   ],
   "source": [
    "# 5. FOOD COMPETITION analysis\n",
    "print(\"5. Analyzing food competition dynamics...\")\n",
    "\n",
    "if 'food_availability' in df2_clean.columns:\n",
    "    # Standardize food availability (should be 0-4 scale)\n",
    "    df2_clean['food_availability'] = df2_clean['food_availability'].clip(0, 4)\n",
    "    \n",
    "    # Create food scarcity categories\n",
    "    df2_clean['food_level'] = pd.cut(\n",
    "        df2_clean['food_availability'],\n",
    "        bins=[0, 1, 2, 3, 4],\n",
    "        labels=['scarce', 'low', 'moderate', 'abundant'],\n",
    "        include_lowest=True\n",
    "    )\n",
    "    \n",
    "    # Food scarcity indicator\n",
    "    df2_clean['food_scarce'] = (df2_clean['food_availability'] <= 1).astype(int)\n"
   ]
  },
  {
   "cell_type": "code",
   "execution_count": 57,
   "id": "2513ef39",
   "metadata": {},
   "outputs": [
    {
     "name": "stdout",
     "output_type": "stream",
     "text": [
      "6. Creating competition vs predation indicators...\n"
     ]
    }
   ],
   "source": [
    "# 6. Calculate COMPETITION vs PREDATION indicators\n",
    "print(\"6. Creating competition vs predation indicators...\")\n",
    "\n",
    "# Bat efficiency when rats present vs absent\n",
    "if all(col in df2_clean.columns for col in ['bat_landing_number', 'food_availability', 'rat_present']):\n",
    "    # Avoid division by zero\n",
    "    df2_clean['bat_efficiency'] = np.where(\n",
    "        df2_clean['food_availability'] > 0,\n",
    "        df2_clean['bat_landing_number'] / df2_clean['food_availability'],\n",
    "        df2_clean['bat_landing_number']\n",
    "    )\n",
    "    \n",
    "    # Initialize reduced efficiency indicator\n",
    "    df2_clean['reduced_efficiency_with_rats'] = 0\n",
    "    \n",
    "    if df2_clean['rat_present'].sum() > 0:  # If there are periods with rats\n",
    "        # Calculate efficiency when rats absent vs present\n",
    "        no_rat_efficiency = df2_clean[df2_clean['rat_present'] == 0]['bat_efficiency'].mean()\n",
    "        rat_efficiency = df2_clean[df2_clean['rat_present'] == 1]['bat_efficiency'].mean()\n",
    "        \n",
    "        if no_rat_efficiency > 0:\n",
    "            efficiency_reduction = (no_rat_efficiency - rat_efficiency) / no_rat_efficiency\n",
    "            df2_clean.loc[df2_clean['rat_present'] == 1, 'reduced_efficiency_with_rats'] = max(0, efficiency_reduction)\n"
   ]
  },
  {
   "cell_type": "code",
   "execution_count": 58,
   "id": "0a87c9e8",
   "metadata": {},
   "outputs": [
    {
     "name": "stdout",
     "output_type": "stream",
     "text": [
      "7. Creating temporal features...\n"
     ]
    }
   ],
   "source": [
    "# 7. Temporal analysis for Investigation A\n",
    "print(\"7. Creating temporal features...\")\n",
    "\n",
    "if 'time' in df2_clean.columns:\n",
    "    df2_clean['hour'] = df2_clean['time'].dt.hour\n",
    "    df2_clean['day_of_week'] = df2_clean['time'].dt.dayofweek\n",
    "    df2_clean['is_night'] = ((df2_clean['hour'] >= 18) | (df2_clean['hour'] <= 6)).astype(int)\n",
    "    df2_clean['date'] = df2_clean['time'].dt.date\n",
    "    \n",
    "    # Peak foraging times when predator encounters are more likely\n",
    "    df2_clean['peak_foraging_time'] = ((df2_clean['hour'] >= 19) & (df2_clean['hour'] <= 23)).astype(int)\n"
   ]
  },
  {
   "cell_type": "code",
   "execution_count": 59,
   "id": "0f94336c",
   "metadata": {},
   "outputs": [
    {
     "name": "stdout",
     "output_type": "stream",
     "text": [
      "8. Analyzing predator avoidance patterns...\n"
     ]
    }
   ],
   "source": [
    "# 8. PREDATOR AVOIDANCE patterns\n",
    "print(\"8. Analyzing predator avoidance patterns...\")\n",
    "\n",
    "# Periods with rats but low bat activity = potential avoidance\n",
    "if all(col in df2_clean.columns for col in ['rat_present', 'bat_landing_number']):\n",
    "    median_bat_activity = df2_clean['bat_landing_number'].median()\n",
    "    \n",
    "    df2_clean['potential_avoidance'] = (\n",
    "        (df2_clean['rat_present'] == 1) &\n",
    "        (df2_clean['bat_landing_number'] < median_bat_activity)\n",
    "    ).astype(int)\n",
    "    \n",
    "    # High avoidance: rats present but very low bat activity\n",
    "    low_activity_threshold = df2_clean['bat_landing_number'].quantile(0.25)\n",
    "    df2_clean['strong_avoidance'] = (\n",
    "        (df2_clean['rat_present'] == 1) &\n",
    "        (df2_clean['bat_landing_number'] <= low_activity_threshold)\n",
    "    ).astype(int)\n"
   ]
  },
  {
   "cell_type": "code",
   "execution_count": 60,
   "id": "5da217d0",
   "metadata": {},
   "outputs": [
    {
     "name": "stdout",
     "output_type": "stream",
     "text": [
      "9. Creating Investigation A summary indicators...\n"
     ]
    }
   ],
   "source": [
    "# 9. Create Investigation A summary metrics\n",
    "print(\"9. Creating Investigation A summary indicators...\")\n",
    "\n",
    "# Predator-prey interaction intensity score\n",
    "interaction_factors = []\n",
    "\n",
    "if 'predator_pressure' in df2_clean.columns:\n",
    "    pressure_score = df2_clean['predator_pressure'].map({'none': 0, 'minimal': 1, 'moderate': 2, 'high': 3})\n",
    "    pressure_score = pd.to_numeric(pressure_score, errors='coerce').fillna(0)  # Convert to numeric\n",
    "    interaction_factors.append(pressure_score / 3)  # normalize\n",
    "\n",
    "if 'bat_activity_level' in df2_clean.columns:\n",
    "    activity_score = df2_clean['bat_activity_level'].map({'low': 0, 'moderate': 1, 'high': 2, 'very_high': 3})\n",
    "    activity_score = pd.to_numeric(activity_score, errors='coerce').fillna(0)  # Convert to numeric\n",
    "    interaction_factors.append(activity_score / 3)  # normalize\n",
    "\n",
    "if interaction_factors:\n",
    "    df2_clean['interaction_intensity'] = np.mean(interaction_factors, axis=0)\n",
    "\n",
    "# Competitive exclusion indicator\n",
    "# High when: high rat presence but low bat activity AND low food\n",
    "if all(col in df2_clean.columns for col in ['rat_present', 'bat_landing_number', 'food_availability']):\n",
    "    df2_clean['competitive_exclusion'] = (\n",
    "        (df2_clean['rat_present'] == 1) &\n",
    "        (df2_clean['bat_landing_number'] < df2_clean['bat_landing_number'].median()) &\n",
    "        (df2_clean['food_availability'] <= 2)\n",
    "    ).astype(int)\n",
    "\n",
    "\n",
    "\n"
   ]
  },
  {
   "cell_type": "code",
   "execution_count": 61,
   "id": "6e669846",
   "metadata": {},
   "outputs": [
    {
     "name": "stdout",
     "output_type": "stream",
     "text": [
      "10. Detecting outliers in key variables...\n",
      "   Found 24 outliers in bat_landing_number\n",
      "   Found 511 outliers in rat_minutes\n"
     ]
    }
   ],
   "source": [
    "# 10. Outlier detection for key variables\n",
    "print(\"10. Detecting outliers in key variables...\")\n",
    "\n",
    "outlier_cols = ['bat_landing_number', 'rat_minutes']\n",
    "for col in outlier_cols:\n",
    "    if col in df2_clean.columns:\n",
    "        Q1 = df2_clean[col].quantile(0.25)\n",
    "        Q3 = df2_clean[col].quantile(0.75)\n",
    "        IQR = Q3 - Q1\n",
    "        lower_bound = Q1 - 1.5 * IQR\n",
    "        upper_bound = Q3 + 1.5 * IQR\n",
    "        \n",
    "        outliers = (df2_clean[col] < lower_bound) | (df2_clean[col] > upper_bound)\n",
    "        df2_clean[f'{col}_outlier'] = outliers\n",
    "        print(f\"   Found {outliers.sum()} outliers in {col}\")\n"
   ]
  },
  {
   "cell_type": "code",
   "execution_count": 62,
   "id": "23bda4d3",
   "metadata": {},
   "outputs": [
    {
     "name": "stdout",
     "output_type": "stream",
     "text": [
      "Dataset 2 cleaning complete. Final shape: (2123, 29)\n",
      "Key Investigation A variables created:\n",
      "   - Predator pressure levels: {'none': 1584, 'minimal': 287, 'moderate': 184, 'high': 68}\n",
      "   - Potential avoidance periods: 322\n"
     ]
    }
   ],
   "source": [
    "# Summary\n",
    "print(f\"Dataset 2 cleaning complete. Final shape: {df2_clean.shape}\")\n",
    "print(\"Key Investigation A variables created:\")\n",
    "if 'predator_pressure' in df2_clean.columns:\n",
    "    print(f\"   - Predator pressure levels: {df2_clean['predator_pressure'].value_counts().to_dict()}\")\n",
    "if 'potential_avoidance' in df2_clean.columns:\n",
    "    print(f\"   - Potential avoidance periods: {df2_clean['potential_avoidance'].sum()}\")"
   ]
  },
  {
   "cell_type": "code",
   "execution_count": 63,
   "id": "19b91f1b",
   "metadata": {},
   "outputs": [
    {
     "name": "stdout",
     "output_type": "stream",
     "text": [
      "\n",
      "=== VALIDATION FOR INVESTIGATION A ===\n",
      "1. Validating Investigation A critical variables...\n",
      "   ✓ bat_landing_to_food (Avoidance behavior indicator) - Complete\n",
      "   ✓ risk (Risk-taking behavior) - Complete\n",
      "   ✓ reward (Foraging success) - Complete\n",
      "   ✓ rat_present (Predator presence) - Complete\n",
      "   ✓ behavior_type (Behavioral classification) - Complete\n",
      "   ✓ predator_avoidance_score (Composite avoidance measure) - Complete\n",
      "   ✓ bat_landing_number (Bat activity level) - Complete\n",
      "   ✓ rat_minutes (Predator exposure duration) - Complete\n",
      "   ✓ food_availability (Resource competition) - Complete\n",
      "   ✓ predator_pressure (Predator pressure intensity) - Complete\n",
      "   ✓ potential_avoidance (Avoidance behavior indicator) - Complete\n"
     ]
    }
   ],
   "source": [
    "# Validate cleaned data\n",
    "print(\"\\n=== VALIDATION FOR INVESTIGATION A ===\")\n",
    "\n",
    "# Check for Investigation A critical variables\n",
    "print(\"1. Validating Investigation A critical variables...\")\n",
    "\n",
    "# Dataset 1 critical variables for predator perception analysis\n",
    "critical_vars_df1 = {\n",
    "    'bat_landing_to_food': 'Avoidance behavior indicator',\n",
    "    'risk': 'Risk-taking behavior',\n",
    "    'reward': 'Foraging success',\n",
    "    'rat_present': 'Predator presence',\n",
    "    'behavior_type': 'Behavioral classification',\n",
    "    'predator_avoidance_score': 'Composite avoidance measure'\n",
    "}\n",
    "\n",
    "for var, description in critical_vars_df1.items():\n",
    "    if var in df1_clean.columns:\n",
    "        missing = df1_clean[var].isnull().sum()\n",
    "        if missing > 0:\n",
    "            print(f\"   WARNING: {missing} missing values in {var} ({description})\")\n",
    "        else:\n",
    "            print(f\"   ✓ {var} ({description}) - Complete\")\n",
    "    else:\n",
    "        print(f\"   ERROR: Missing critical variable {var} ({description})\")\n",
    "\n",
    "# Dataset 2 critical variables for population-level analysis\n",
    "critical_vars_df2 = {\n",
    "    'bat_landing_number': 'Bat activity level',\n",
    "    'rat_minutes': 'Predator exposure duration',\n",
    "    'food_availability': 'Resource competition',\n",
    "    'predator_pressure': 'Predator pressure intensity',\n",
    "    'potential_avoidance': 'Avoidance behavior indicator'\n",
    "}\n",
    "\n",
    "for var, description in critical_vars_df2.items():\n",
    "    if var in df2_clean.columns:\n",
    "        missing = df2_clean[var].isnull().sum()\n",
    "        if missing > 0:\n",
    "            print(f\"   WARNING: {missing} missing values in {var} ({description})\")\n",
    "        else:\n",
    "            print(f\"   ✓ {var} ({description}) - Complete\")\n",
    "    else:\n",
    "        print(f\"   ERROR: Missing critical variable {var} ({description})\")\n"
   ]
  },
  {
   "cell_type": "code",
   "execution_count": 64,
   "id": "d4ada8a6",
   "metadata": {},
   "outputs": [
    {
     "name": "stdout",
     "output_type": "stream",
     "text": [
      "\n",
      "2. Validating readiness for hypothesis testing...\n",
      "   Dataset 1 - Rat present: 311, Rat absent: 596\n",
      "   Dataset 2 - Periods with rats: 545, Periods without: 1578\n"
     ]
    }
   ],
   "source": [
    "# 2. Validate Investigation A hypotheses testing readiness\n",
    "print(\"\\n2. Validating readiness for hypothesis testing...\")\n",
    "\n",
    "# Check for sufficient data in key conditions\n",
    "if 'rat_present' in df1_clean.columns:\n",
    "    rat_present_count = df1_clean['rat_present'].sum()\n",
    "    rat_absent_count = (df1_clean['rat_present'] == 0).sum()\n",
    "    print(f\"   Dataset 1 - Rat present: {rat_present_count}, Rat absent: {rat_absent_count}\")\n",
    "    \n",
    "    if rat_present_count < 30 or rat_absent_count < 30:\n",
    "        print(\"   WARNING: Low sample sizes may affect statistical power\")\n",
    "\n",
    "if 'rat_present' in df2_clean.columns:\n",
    "    rat_periods = df2_clean['rat_present'].sum()\n",
    "    no_rat_periods = (df2_clean['rat_present'] == 0).sum()\n",
    "    print(f\"   Dataset 2 - Periods with rats: {rat_periods}, Periods without: {no_rat_periods}\")\n"
   ]
  },
  {
   "cell_type": "code",
   "execution_count": 65,
   "id": "b1a6e1de",
   "metadata": {},
   "outputs": [
    {
     "name": "stdout",
     "output_type": "stream",
     "text": [
      "\n",
      "3. Investigation A behavioral pattern validation...\n",
      "   Avoidance behavior distribution: {'quick': 276, 'immediate': 263, 'delayed': 189, 'highly_delayed': 179}\n",
      "   Interaction types: {'no_rat': 596, 'predation_fear': 271, 'competition': 40}\n",
      "   Predator pressure distribution: {'none': 1584, 'minimal': 287, 'moderate': 184, 'high': 68}\n"
     ]
    }
   ],
   "source": [
    "# 3. Check for Investigation A key behavioral patterns\n",
    "print(\"\\n3. Investigation A behavioral pattern validation...\")\n",
    "\n",
    "if 'avoidance_level' in df1_clean.columns:\n",
    "    avoidance_dist = df1_clean['avoidance_level'].value_counts()\n",
    "    print(f\"   Avoidance behavior distribution: {avoidance_dist.to_dict()}\")\n",
    "\n",
    "if 'interaction_type' in df1_clean.columns:\n",
    "    interaction_dist = df1_clean['interaction_type'].value_counts()\n",
    "    print(f\"   Interaction types: {interaction_dist.to_dict()}\")\n",
    "\n",
    "if 'predator_pressure' in df2_clean.columns:\n",
    "    pressure_dist = df2_clean['predator_pressure'].value_counts()\n",
    "    print(f\"   Predator pressure distribution: {pressure_dist.to_dict()}\")\n"
   ]
  },
  {
   "cell_type": "code",
   "execution_count": 66,
   "id": "6f961842",
   "metadata": {},
   "outputs": [
    {
     "name": "stdout",
     "output_type": "stream",
     "text": [
      "\n",
      "4. Data quality summary:\n",
      "   Dataset 1: 907 bat landings, 29 variables\n",
      "   Dataset 2: 2123 observation periods, 29 variables\n"
     ]
    }
   ],
   "source": [
    "# 4. Data quality summary\n",
    "print(f\"\\n4. Data quality summary:\")\n",
    "print(f\"   Dataset 1: {df1_clean.shape[0]} bat landings, {df1_clean.shape[1]} variables\")\n",
    "print(f\"   Dataset 2: {df2_clean.shape[0]} observation periods, {df2_clean.shape[1]} variables\")\n"
   ]
  },
  {
   "cell_type": "code",
   "execution_count": 67,
   "id": "db062a0d",
   "metadata": {},
   "outputs": [
    {
     "name": "stdout",
     "output_type": "stream",
     "text": [
      "   ✓ Sufficient avoidance behavior data\n",
      "   ✓ Sufficient rat encounter data\n",
      "   ✓ Composite avoidance measure available\n",
      "   ✓ Population-level avoidance indicators available\n",
      "   ✓ Risk-reward behavioral data complete\n",
      "\n",
      "   Investigation A Readiness Score: 5/5\n",
      "   ✅ READY for Investigation A analysis!\n"
     ]
    }
   ],
   "source": [
    "# 5. Investigation A readiness assessment\n",
    "readiness_score = 0\n",
    "max_score = 5\n",
    "\n",
    "if 'bat_landing_to_food' in df1_clean.columns and df1_clean['bat_landing_to_food'].notna().sum() > 100:\n",
    "    readiness_score += 1\n",
    "    print(\"   ✓ Sufficient avoidance behavior data\")\n",
    "    \n",
    "if 'rat_present' in df1_clean.columns and df1_clean['rat_present'].sum() > 50:\n",
    "    readiness_score += 1\n",
    "    print(\"   ✓ Sufficient rat encounter data\")\n",
    "    \n",
    "if 'predator_avoidance_score' in df1_clean.columns:\n",
    "    readiness_score += 1\n",
    "    print(\"   ✓ Composite avoidance measure available\")\n",
    "    \n",
    "if 'potential_avoidance' in df2_clean.columns:\n",
    "    readiness_score += 1\n",
    "    print(\"   ✓ Population-level avoidance indicators available\")\n",
    "    \n",
    "if all(col in df1_clean.columns for col in ['risk', 'reward']):\n",
    "    readiness_score += 1\n",
    "    print(\"   ✓ Risk-reward behavioral data complete\")\n",
    "    \n",
    "print(f\"\\n   Investigation A Readiness Score: {readiness_score}/{max_score}\")\n",
    "if readiness_score >= 4:\n",
    "    print(\"   ✅ READY for Investigation A analysis!\")\n",
    "else:\n",
    "    print(\"   ⚠️  Some data quality issues may affect analysis\")\n"
   ]
  },
  {
   "cell_type": "code",
   "execution_count": 68,
   "id": "88298350",
   "metadata": {},
   "outputs": [
    {
     "name": "stdout",
     "output_type": "stream",
     "text": [
      "\n",
      "=== SAVING CLEANED DATA ===\n",
      "Cleaned datasets saved to:\n",
      "   - cleaned_data/dataset1_cleaned.csv\n",
      "   - cleaned_data/dataset2_cleaned.csv\n",
      "\n",
      "=== CLEANING SUMMARY REPORT ===\n",
      "   - cleaned_data/cleaning_summary_report.txt\n",
      "\n",
      "============================================================\n",
      "DATA CLEANING PIPELINE COMPLETED SUCCESSFULLY!\n",
      "============================================================\n"
     ]
    }
   ],
   "source": [
    "# Save cleaned data\n",
    "print(\"\\n=== SAVING CLEANED DATA ===\")\n",
    "\n",
    "# Save cleaned datasets\n",
    "df1_clean.to_csv(\"cleaned_data/dataset1_cleaned.csv\", index=False)\n",
    "df2_clean.to_csv(\"cleaned_data/dataset2_cleaned.csv\", index=False)\n",
    "\n",
    "print(\"Cleaned datasets saved to:\")\n",
    "print(\"   - cleaned_data/dataset1_cleaned.csv\")\n",
    "print(\"   - cleaned_data/dataset2_cleaned.csv\")\n",
    "\n",
    "# Save summary report\n",
    "print(\"\\n=== CLEANING SUMMARY REPORT ===\")\n",
    "report = []\n",
    "report.append(\"=\" * 60)\n",
    "report.append(\"DATA CLEANING SUMMARY REPORT\")\n",
    "report.append(\"=\" * 60)\n",
    "report.append(f\"Date: {pd.Timestamp.now().strftime('%Y-%m-%d %H:%M:%S')}\")\n",
    "report.append(\"\")\n",
    "\n",
    "# Dataset 1 summary\n",
    "report.append(\"DATASET 1 (Behavioral Data):\")\n",
    "report.append(f\"  - Original observations: Unknown (cleaned version has {df1_clean.shape[0]})\")\n",
    "report.append(f\"  - Features after cleaning: {df1_clean.shape[1]}\")\n",
    "\n",
    "if 'behavior_type' in df1_clean.columns:\n",
    "    report.append(\"  - Behavior categories:\")\n",
    "    for behavior, count in df1_clean['behavior_type'].value_counts().items():\n",
    "        report.append(f\"    * {behavior}: {count}\")\n",
    "\n",
    "# Dataset 2 summary\n",
    "report.append(\"\")\n",
    "report.append(\"DATASET 2 (Time Series Data):\")\n",
    "report.append(f\"  - Original observations: Unknown (cleaned version has {df2_clean.shape[0]})\")\n",
    "report.append(f\"  - Features after cleaning: {df2_clean.shape[1]}\")\n",
    "\n",
    "if 'food_level' in df2_clean.columns:\n",
    "    report.append(\"  - Food availability levels:\")\n",
    "    for level, count in df2_clean['food_level'].value_counts().items():\n",
    "        report.append(f\"    * {level}: {count}\")\n",
    "\n",
    "# Cleaning operations\n",
    "report.append(\"\")\n",
    "report.append(\"CLEANING OPERATIONS PERFORMED:\")\n",
    "report.append(\"  1. Datetime conversion and validation\")\n",
    "report.append(\"  2. Missing value imputation\")\n",
    "report.append(\"  3. Categorical data standardization\")\n",
    "report.append(\"  4. Outlier detection and flagging\")\n",
    "report.append(\"  5. Feature engineering (time-based, interactions)\")\n",
    "report.append(\"  6. Data validation and range checking\")\n",
    "report.append(\"  7. Binary encoding for machine learning readiness\")\n",
    "\n",
    "# Recommended next steps\n",
    "report.append(\"\")\n",
    "report.append(\"RECOMMENDED NEXT STEPS:\")\n",
    "report.append(\"  1. Exploratory data analysis\")\n",
    "report.append(\"  2. Statistical testing for rat vs no-rat conditions\")\n",
    "report.append(\"  3. Time series analysis for patterns\")\n",
    "report.append(\"  4. Machine learning model development\")\n",
    "\n",
    "# Write report to file\n",
    "summary_report = \"\\n\".join(report)\n",
    "with open(\"cleaned_data/cleaning_summary_report.txt\", \"w\") as f:\n",
    "    f.write(summary_report)\n",
    "\n",
    "print(\"   - cleaned_data/cleaning_summary_report.txt\")\n",
    "print(\"\\n\" + \"=\" * 60)\n",
    "print(\"DATA CLEANING PIPELINE COMPLETED SUCCESSFULLY!\")\n",
    "print(\"=\" * 60)\n"
   ]
  }
 ],
 "metadata": {
  "kernelspec": {
   "display_name": "batvsrat_new",
   "language": "python",
   "name": "python3"
  },
  "language_info": {
   "codemirror_mode": {
    "name": "ipython",
    "version": 3
   },
   "file_extension": ".py",
   "mimetype": "text/x-python",
   "name": "python",
   "nbconvert_exporter": "python",
   "pygments_lexer": "ipython3",
   "version": "3.12.11"
  }
 },
 "nbformat": 4,
 "nbformat_minor": 5
}
